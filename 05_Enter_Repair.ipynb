{
 "cells": [
  {
   "cell_type": "code",
   "execution_count": null,
   "id": "9c427989-2091-4916-a388-d1015ded029a",
   "metadata": {},
   "outputs": [],
   "source": [
    "my_text = 'car will not start'            #e.g. 'the brakes squeal when the car begins to stop'\n",
    "#my_route = 'your_service (http://...)'   #this is the route that was created in your OpenShift dedicated project\n",
    "my_route = 'http://metrobus-repairs-nlp-workshop-metrobus-repairs.apps.integrations.fb55.p1.openshiftapps.com/'"
   ]
  },
  {
   "cell_type": "code",
   "execution_count": null,
   "id": "462aae17-f230-4b94-bc50-dbd3683896f1",
   "metadata": {},
   "outputs": [],
   "source": [
    "import requests\n",
    "import json\n",
    "from json import dumps\n",
    "\n",
    "content = {\"text\": my_text}\n",
    "json_data = dumps(content)\n",
    "\n",
    "headers = {\"Content-Type\" : \"application/json\"}\n",
    "\n",
    "r = requests.post(my_route + '/prediction', data=json_data, headers=headers)\n",
    "\n",
    "print(r.content)\n",
    "\n"
   ]
  },
  {
   "cell_type": "code",
   "execution_count": null,
   "id": "219219fe-6ebf-466c-a8b0-bb693aacab25",
   "metadata": {},
   "outputs": [],
   "source": []
  }
 ],
 "metadata": {
  "kernelspec": {
   "display_name": "Python 3 (ipykernel)",
   "language": "python",
   "name": "python3"
  },
  "language_info": {
   "codemirror_mode": {
    "name": "ipython",
    "version": 3
   },
   "file_extension": ".py",
   "mimetype": "text/x-python",
   "name": "python",
   "nbconvert_exporter": "python",
   "pygments_lexer": "ipython3",
   "version": "3.8.6"
  }
 },
 "nbformat": 4,
 "nbformat_minor": 5
}
