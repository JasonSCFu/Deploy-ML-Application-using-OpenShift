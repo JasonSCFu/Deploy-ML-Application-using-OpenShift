{
 "cells": [
  {
   "cell_type": "markdown",
   "metadata": {},
   "source": [
    "## Flask\n",
    "Our API will be served directly from our container using Flask, a popular Python Web Server.\n",
    "The Flask application, which will call our prediction function, is defined in the `wsgi.py` file."
   ]
  },
  {
   "cell_type": "markdown",
   "metadata": {},
   "source": [
    "As always, we'll first run some imports to make sure all our requirements are there:"
   ]
  },
  {
   "cell_type": "code",
   "execution_count": null,
   "metadata": {
    "ExecuteTime": {
     "end_time": "2021-04-13T19:39:12.918898Z",
     "start_time": "2021-04-13T19:38:57.226296Z"
    }
   },
   "outputs": [],
   "source": [
    "import sys\n",
    "!{sys.executable} -m pip install -r requirements.txt"
   ]
  },
  {
   "cell_type": "markdown",
   "metadata": {},
   "source": [
    "Now that we have everything in place, we can launch the Flask application.\n",
    "\n",
    "(Please ignore the CUDA errors of warning if you don't have any GPU).\n",
    "\n",
    "This cell will be in a **permanent running state**. That's normal as the webserver process will keep running. When you are **finished** with the test you can just select the cell, and click on the **Stop button** (next to Run)."
   ]
  },
  {
   "cell_type": "code",
   "execution_count": null,
   "metadata": {
    "ExecuteTime": {
     "end_time": "2021-04-13T20:22:18.706055Z",
     "start_time": "2021-04-13T20:12:31.112873Z"
    }
   },
   "outputs": [],
   "source": [
    "!FLASK_ENV=development FLASK_APP=wsgi.py flask run"
   ]
  },
  {
   "cell_type": "markdown",
   "metadata": {},
   "source": [
    "Once the models have been loaded, our server is ready to take requests. Leave this notebook running,and open `04_MBR_test_application.ipynb`."
   ]
  }
 ],
 "metadata": {
  "finalized": {
   "timestamp": 1618345356814,
   "trusted": true
  },
  "kernelspec": {
   "display_name": "Python 3 (ipykernel)",
   "language": "python",
   "name": "python3"
  },
  "language_info": {
   "codemirror_mode": {
    "name": "ipython",
    "version": 3
   },
   "file_extension": ".py",
   "mimetype": "text/x-python",
   "name": "python",
   "nbconvert_exporter": "python",
   "pygments_lexer": "ipython3",
   "version": "3.8.6"
  },
  "toc": {
   "base_numbering": 1,
   "nav_menu": {},
   "number_sections": true,
   "sideBar": true,
   "skip_h1_title": false,
   "title_cell": "Table of Contents",
   "title_sidebar": "Contents",
   "toc_cell": false,
   "toc_position": {},
   "toc_section_display": true,
   "toc_window_display": false
  }
 },
 "nbformat": 4,
 "nbformat_minor": 4
}
